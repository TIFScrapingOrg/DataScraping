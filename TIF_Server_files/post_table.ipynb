{
 "cells": [
  {
   "cell_type": "code",
   "execution_count": 2,
   "metadata": {},
   "outputs": [],
   "source": [
    "import requests"
   ]
  },
  {
   "cell_type": "code",
   "execution_count": 8,
   "metadata": {},
   "outputs": [
    {
     "name": "stdout",
     "output_type": "stream",
     "text": [
      "File uploaded successfully!\n"
     ]
    }
   ],
   "source": [
    "def upload_file(file_path, url):\n",
    "    try:\n",
    "        with open(file_path, 'rb') as file:\n",
    "            files = {'cheese': file}\n",
    "            response = requests.post(url, files=files)\n",
    "            if response.status_code == 200:\n",
    "                print(\"File uploaded successfully!\")\n",
    "            else:\n",
    "                print(f\"Failed to upload file. Status code: {response.status_code}\")\n",
    "    except Exception as e:\n",
    "        print(f\"An error occurred: {e}\")\n",
    "\n",
    "# Example usage\n",
    "file_path = 'small_table.csv'  # Replace with the path to your file\n",
    "upload_url = 'http://noahbaxley.com/tiftastic/send_work.php'\n",
    "\n",
    "upload_file(file_path, upload_url)\n"
   ]
  },
  {
   "cell_type": "code",
   "execution_count": 31,
   "metadata": {},
   "outputs": [
    {
     "name": "stdout",
     "output_type": "stream",
     "text": [
      "Butter File appended successfully: uploads/bigbutter.json\n",
      "\n",
      "File uploaded successfully!\n"
     ]
    }
   ],
   "source": [
    "def upload_json(file_path, url):\n",
    "    try:\n",
    "        with open(file_path, 'rb') as file:\n",
    "            files = {'butter': file}\n",
    "            response = requests.post(url, files=files)\n",
    "            print(response.text)\n",
    "            if response.status_code == 200:\n",
    "                print(\"File uploaded successfully!\")\n",
    "            else:\n",
    "                print(f\"Failed to upload file. Status code: {response.status_code}\")\n",
    "    except Exception as e:\n",
    "        print(f\"An error occurred: {e}\")\n",
    "\n",
    "# Example usage\n",
    "file_path = 'small_json.json'  # Replace with the path to your file\n",
    "upload_url = 'http://noahbaxley.com/tiftastic/send_work.php'\n",
    "\n",
    "upload_json(file_path, upload_url)"
   ]
  },
  {
   "cell_type": "code",
   "execution_count": 14,
   "metadata": {},
   "outputs": [
    {
     "name": "stdout",
     "output_type": "stream",
     "text": [
      "Array ArrayRecords update successfully\n",
      "Files uploaded successfully!\n"
     ]
    }
   ],
   "source": [
    "def upload_done_documents(csv_path, json_path, year_tif_pairs, url):\n",
    "\n",
    "\ttry:\n",
    "\n",
    "\t\t# for year in year_tif_pairs:\n",
    "\t\t# \tif not isinstance(year_tif_pairs[year], int):\n",
    "\t\t# \t\tyear_tif_pairs[year] = year_tif_pairs[year] = int(year)\n",
    "\n",
    "\t\tyear_tif_pairs = [[year, number.lstrip('0')] for year, number in year_tif_pairs]\n",
    "\n",
    "\t\twith open(csv_path, 'rb') as cheese, open(json_path, 'rb') as butter:\n",
    "\t\t\tfiles = {\n",
    "\t\t\t\t'butter': butter,\n",
    "\t\t\t\t'cheese': cheese,\n",
    "\t\t\t}\n",
    "\t\t\tdata = {\n",
    "\t\t\t\t'bread': str(year_tif_pairs),\n",
    "\t\t\t}\n",
    "\t\t\tresponse = requests.post(url, data=data, files=files)\n",
    "\t\t\tprint(response.text)\n",
    "\t\t\tif response.status_code == 200:\n",
    "\t\t\t\tprint(\"Files uploaded successfully!\")\n",
    "\t\t\telse:\n",
    "\t\t\t\tprint(f\"Failed to upload file. Status code: {response.status_code}\")\n",
    "\n",
    "\texcept Exception as e:\n",
    "\t\tprint(f'Exception: {e}')\n",
    "\t\t\t\n",
    "\t\t\n",
    "cheese_path = 'C:/Users/noahb/NProgramming/DataScraping/TIF_Portable/cheese.csv'\n",
    "butter_path = 'C:/Users/noahb/NProgramming/DataScraping/TIF_Portable/butter.json'\n",
    "# pairs = [['2018', '001'], ['2018', '002'], ['2018', '030'], ['2018', '005'], ['2018', '009']]\n",
    "pairs = [['1997', '042']]\n",
    "upload_url = 'http://noahbaxley.com/tiftastic/send_work.php'\n",
    "test_url = 'http://noahbaxley.com/tiftastic/send_work.php'\n",
    "\n",
    "\n",
    "upload_done_documents(cheese_path, butter_path, pairs, upload_url)"
   ]
  }
 ],
 "metadata": {
  "kernelspec": {
   "display_name": "Python 3",
   "language": "python",
   "name": "python3"
  },
  "language_info": {
   "codemirror_mode": {
    "name": "ipython",
    "version": 3
   },
   "file_extension": ".py",
   "mimetype": "text/x-python",
   "name": "python",
   "nbconvert_exporter": "python",
   "pygments_lexer": "ipython3",
   "version": "3.11.6"
  }
 },
 "nbformat": 4,
 "nbformat_minor": 2
}
