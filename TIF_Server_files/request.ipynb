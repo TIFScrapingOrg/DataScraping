{
 "cells": [
  {
   "cell_type": "code",
   "execution_count": 1,
   "metadata": {},
   "outputs": [],
   "source": [
    "import requests"
   ]
  },
  {
   "cell_type": "code",
   "execution_count": 2,
   "metadata": {},
   "outputs": [
    {
     "name": "stdout",
     "output_type": "stream",
     "text": [
      "Received data\n",
      "[{'year': 2009, 'tif_number': 4, 'url': 'https://www.chicago.gov/content/dam/city/depts/dcd/tif/09reports/T_004_49thStLawrenceAR09.pdf'}, {'year': 2009, 'tif_number': 5, 'url': 'https://www.chicago.gov/content/dam/city/depts/dcd/tif/09reports/T_005_60thWesternAR09.pdf'}, {'year': 2009, 'tif_number': 6, 'url': 'https://www.chicago.gov/content/dam/city/depts/dcd/tif/09reports/T_006_72ndCiceroAR09.pdf'}, {'year': 2009, 'tif_number': 7, 'url': 'https://www.chicago.gov/content/dam/city/depts/dcd/tif/09reports/T_007_73rdKedzieAR09.pdf'}, {'year': 2009, 'tif_number': 8, 'url': 'https://www.chicago.gov/content/dam/city/depts/dcd/tif/09reports/T_008_95thStonyIslandAR09.pdf'}]\n"
     ]
    }
   ],
   "source": [
    "# Ask the url for JSON\n",
    "url = 'http://noahbaxley.com/tiftastic/request_work.php'\n",
    "response = requests.get(url)\n",
    "\n",
    "if response.status_code == 200:\n",
    "\tjson_data = response.json()\n",
    "\t\t\n",
    "\tprint('Received data')\n",
    "\tprint(json_data)\n",
    "else:\n",
    "\tprint('Failed to fetch data:', response.status_code)\n"
   ]
  }
 ],
 "metadata": {
  "kernelspec": {
   "display_name": "Python 3",
   "language": "python",
   "name": "python3"
  },
  "language_info": {
   "codemirror_mode": {
    "name": "ipython",
    "version": 3
   },
   "file_extension": ".py",
   "mimetype": "text/x-python",
   "name": "python",
   "nbconvert_exporter": "python",
   "pygments_lexer": "ipython3",
   "version": "3.11.6"
  }
 },
 "nbformat": 4,
 "nbformat_minor": 2
}
