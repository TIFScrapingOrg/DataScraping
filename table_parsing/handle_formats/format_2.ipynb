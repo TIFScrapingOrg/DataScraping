{
 "cells": [
  {
   "cell_type": "code",
   "execution_count": null,
   "metadata": {},
   "outputs": [],
   "source": [
    "import pandas as pd"
   ]
  },
  {
   "cell_type": "code",
   "execution_count": null,
   "metadata": {},
   "outputs": [],
   "source": [
    "DOC_YEAR = 1997\n",
    "DOC_NUM = 28\n",
    "DOC_PAGE = 21\n",
    "\n",
    "DATABASE_FIELDS = ['year', 'tif_number', 'page_num', 'block_num', 'par_num', 'line_num', 'word_num', 'left', 'top', 'width', 'height', 'conf', 'text']\n",
    "\n",
    "CSV_PATH = f'../../parsed_pdfs/{DOC_YEAR}_{DOC_NUM}.csv'"
   ]
  },
  {
   "cell_type": "code",
   "execution_count": null,
   "metadata": {},
   "outputs": [],
   "source": [
    "tif_text = pd.read_csv(CSV_PATH, header=None, names=DATABASE_FIELDS)"
   ]
  },
  {
   "cell_type": "code",
   "execution_count": null,
   "metadata": {},
   "outputs": [],
   "source": [
    "# Find text specifically for page with the table\n",
    "page = tif_text[tif_text['page_num'] == DOC_PAGE]\n",
    "\n",
    "# Drop columns that don't help us for this task\n",
    "USELESS_COLS = ['year', 'tif_number', 'page_num', 'block_num', 'par_num', 'line_num', 'word_num']\n",
    "page = page.drop(USELESS_COLS, axis=1)"
   ]
  },
  {
   "cell_type": "code",
   "execution_count": null,
   "metadata": {},
   "outputs": [],
   "source": [
    "# Add columns that are the centers\n",
    "def find_center_x(row):\n",
    "\treturn row['left'] + row['width'] / 2\n",
    "\n",
    "def find_center_y(row):\n",
    "\treturn row['top'] + row['height'] / 2\n",
    "\n",
    "col_x = page.apply(find_center_x, axis=1)\n",
    "col_y = page.apply(find_center_y, axis=1)\n",
    "\n",
    "page = page.assign(center_x=col_x.values)\n",
    "page = page.assign(center_y=col_y.values)"
   ]
  }
 ],
 "metadata": {
  "kernelspec": {
   "display_name": ".venv",
   "language": "python",
   "name": "python3"
  },
  "language_info": {
   "name": "python",
   "version": "3.11.8"
  }
 },
 "nbformat": 4,
 "nbformat_minor": 2
}
