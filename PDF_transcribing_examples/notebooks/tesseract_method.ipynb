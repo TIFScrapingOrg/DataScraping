{
 "cells": [
  {
   "cell_type": "code",
   "execution_count": 3,
   "metadata": {},
   "outputs": [],
   "source": [
    "# Import necessary modules\n",
    "import io\n",
    "from PIL import Image\n",
    "\n",
    "# Installing pytesseract involves installing the actual tesseract module from\n",
    "# google and also requires pillow\n",
    "from pytesseract import pytesseract\n",
    "\n",
    "# Use PyMuPDF to turn PDF's into images\n",
    "import fitz"
   ]
  },
  {
   "cell_type": "code",
   "execution_count": null,
   "metadata": {},
   "outputs": [],
   "source": [
    "pdf_path = \"../T_003_43rdDamenAR98.pdf\"\n",
    "\n",
    "with open(\"tesseract_text.txt\", 'a', encoding=\"utf-8\") as output, fitz.open(pdf_path) as pdf:\n",
    "\n",
    "\t# Loop through all pages\n",
    "\tfor page_number in range(len(pdf)):\n",
    "\t\tpage = pdf.load_page(page_number)\n",
    "\t\tpixmap = page.get_pixmap()\n",
    "\n",
    "\t\timage = Image.frombytes(\"RGB\", [pixmap.width, pixmap.height], pixmap.samples)\n",
    "\t\timage_bytes = io.BytesIO()\n",
    "\n",
    "\t\t# We would like to just use an in memory version of the page images.\n",
    "\t\t# This fixes file ordering shenanigans and also makes the process\n",
    "\t\t# significantly faster\n",
    "\t\timage.save(image_bytes, jpg_quality=100, format=\"PNG\")\n",
    "\t\timage_bytes.seek(0)\n",
    "\t\ttext = pytesseract.image_to_string(Image.open(image_bytes))\n",
    "\t\t\n",
    "\t\toutput.write(text)"
   ]
  }
 ],
 "metadata": {
  "kernelspec": {
   "display_name": "Python 3",
   "language": "python",
   "name": "python3"
  },
  "language_info": {
   "codemirror_mode": {
    "name": "ipython",
    "version": 3
   },
   "file_extension": ".py",
   "mimetype": "text/x-python",
   "name": "python",
   "nbconvert_exporter": "python",
   "pygments_lexer": "ipython3",
   "version": "3.11.8"
  }
 },
 "nbformat": 4,
 "nbformat_minor": 2
}
