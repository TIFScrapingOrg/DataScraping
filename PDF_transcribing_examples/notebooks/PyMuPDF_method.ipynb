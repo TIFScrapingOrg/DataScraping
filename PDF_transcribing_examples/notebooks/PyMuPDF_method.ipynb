{
 "cells": [
  {
   "cell_type": "code",
   "execution_count": 1,
   "metadata": {},
   "outputs": [],
   "source": [
    "# Import necessary modules\n",
    "import fitz\n",
    "# Idk why it's called fitz"
   ]
  },
  {
   "cell_type": "code",
   "execution_count": 3,
   "metadata": {},
   "outputs": [],
   "source": [
    "pdf_path = \"../T_003_43rdDamenAR98.pdf\"\n",
    "\n",
    "with fitz.open(pdf_path) as doc, open(\"PyMuPDF_text.txt\", 'a', encoding=\"utf-8\") as output:\n",
    "\n",
    "\t# Loop through all pages\n",
    "\tfor page in doc:\n",
    "\t\toutput.write(page.get_text())"
   ]
  }
 ],
 "metadata": {
  "kernelspec": {
   "display_name": "Python 3",
   "language": "python",
   "name": "python3"
  },
  "language_info": {
   "codemirror_mode": {
    "name": "ipython",
    "version": 3
   },
   "file_extension": ".py",
   "mimetype": "text/x-python",
   "name": "python",
   "nbconvert_exporter": "python",
   "pygments_lexer": "ipython3",
   "version": "3.11.6"
  }
 },
 "nbformat": 4,
 "nbformat_minor": 2
}
